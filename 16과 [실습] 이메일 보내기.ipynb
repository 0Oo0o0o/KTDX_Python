{
 "cells": [
  {
   "cell_type": "markdown",
   "id": "710ee378",
   "metadata": {
    "id": "710ee378"
   },
   "source": [
    "# chapter 16. 이메일 보내기"
   ]
  },
  {
   "cell_type": "markdown",
   "id": "mQXvoBddxrQP",
   "metadata": {
    "id": "mQXvoBddxrQP"
   },
   "source": [
    "① 필요한 라이브러리를 불러옵니다."
   ]
  },
  {
   "cell_type": "code",
   "execution_count": 1,
   "id": "5e994bca",
   "metadata": {
    "id": "5e994bca"
   },
   "outputs": [],
   "source": [
    "import smtplib\n",
    "from email.mime.text import MIMEText"
   ]
  },
  {
   "cell_type": "code",
   "execution_count": 2,
   "id": "8c12b09b",
   "metadata": {},
   "outputs": [],
   "source": [
    "\"\"\"\n",
    "my_email = ''\n",
    "my_pwd = ''\n",
    "\"\"\""
   ]
  },
  {
   "cell_type": "markdown",
   "id": "UciZKT32xvPu",
   "metadata": {
    "id": "UciZKT32xvPu"
   },
   "source": [
    "② 이메일 보내기 준비  \n",
    "* 아래코드에 gmail주소, 앱 비밀번호를 입력하시오."
   ]
  },
  {
   "cell_type": "code",
   "execution_count": null,
   "id": "390578ef",
   "metadata": {
    "id": "21d8702f"
   },
   "outputs": [],
   "source": [
    "s = smtplib.SMTP('smtp.gmail.com', 587)      # 세션 생성\n",
    "s.starttls()                                 # TLS 보안 시작\n",
    "s.login(my_email, my_pwd)          # 로그인 인증"
   ]
  },
  {
   "cell_type": "markdown",
   "id": "B516H4jax1S4",
   "metadata": {
    "id": "B516H4jax1S4"
   },
   "source": [
    "③ 이메일 내용 구성\n",
    "* 이메일 본문을 최소 2줄 이상으로 자유롭게 구성해 봅시다. \n",
    "* 이메일 제목을 구성해 봅시다."
   ]
  },
  {
   "cell_type": "code",
   "execution_count": 4,
   "id": "1569ef28",
   "metadata": {
    "id": "1569ef28"
   },
   "outputs": [],
   "source": [
    "msg = MIMEText('TTTTEEEESSSSTTTT\\nTEST\\nTEST')\n",
    "msg['Subject'] = 'TEST'"
   ]
  },
  {
   "cell_type": "markdown",
   "id": "YAoxxo9Yx9NM",
   "metadata": {
    "id": "YAoxxo9Yx9NM"
   },
   "source": [
    "④ 이메일 보내기\n",
    "* 발신주소와 수신 주소를 입력하고 메일을 보냅니다."
   ]
  },
  {
   "cell_type": "code",
   "execution_count": null,
   "id": "89c4dad9",
   "metadata": {
    "id": "f0a17fad"
   },
   "outputs": [],
   "source": [
    "s.sendmail(my_email, my_email, msg.as_string())\n",
    "s.quit()     "
   ]
  },
  {
   "cell_type": "markdown",
   "id": "BkEa1KpOyD4Z",
   "metadata": {
    "id": "BkEa1KpOyD4Z"
   },
   "source": [
    "⑤ [심화] \n",
    "\n",
    "1) 다음은 현재 시스템 날짜와 시간을 조회하는 코드입니다."
   ]
  },
  {
   "cell_type": "code",
   "execution_count": 6,
   "id": "K9-Z_xIByKEU",
   "metadata": {
    "id": "K9-Z_xIByKEU"
   },
   "outputs": [
    {
     "name": "stdout",
     "output_type": "stream",
     "text": [
      "현재 날짜시간 2021-12-24 15:04:28.593036\n",
      "현재 연도 2021\n",
      "현재 월 12\n",
      "현재 일 24\n",
      "현재 요일 4\n",
      "내일  2021-12-25 15:04:28.593405\n"
     ]
    }
   ],
   "source": [
    "from datetime import datetime, timedelta\n",
    "\n",
    "print('현재 날짜시간', datetime.today())\n",
    "print('현재 연도', datetime.today().year)\n",
    "print('현재 월', datetime.today().month)\n",
    "print('현재 일', datetime.today().day)\n",
    "print('현재 요일', datetime.today().weekday()) # 요일은 weekday() 입니다. 0 : 월요일 ~ 6 : 일요일\n",
    "print('내일 ', datetime.today() + timedelta(1))"
   ]
  },
  {
   "cell_type": "markdown",
   "id": "dCrSAlTvyN3u",
   "metadata": {
    "id": "dCrSAlTvyN3u"
   },
   "source": [
    "2) 위 코드를 참조하여 이메일 내용을 아래와 같이 구성하시오.\n",
    "* 내용에 포함된 날짜는 시스템으로 오늘 날짜를 받아와서 5일을 더하여 내용에 포함되도록 하시오. \n",
    "* 제목 : 제출 마감이 5일 남았습니다.\n",
    "* 내용 : \n",
    "> 안녕하세요  \n",
    "과제 제출 마감이 5일 남았습니다.   \n",
    "0000년 00월 00일까지 반드시 제출바랍니다.  \n",
    "감사합니다.  \n",
    "\n",
    "* 힌트: f'''문자열{변수}...''' 형태를 활용해 봅시다."
   ]
  },
  {
   "cell_type": "code",
   "execution_count": null,
   "id": "bb8c3ca8",
   "metadata": {
    "id": "e9a66c46"
   },
   "outputs": [],
   "source": [
    "import smtplib\n",
    "from email.mime.text import MIMEText\n",
    "\n",
    "year = datetime.today().year\n",
    "month = datetime.today().month\n",
    "day = datetime.today().day\n",
    "\n",
    "s = smtplib.SMTP('smtp.gmail.com', 587)\n",
    "s.starttls()\n",
    "s.login(my_email, my_pwd)\n",
    "\n",
    "msg = MIMEText(f'''안녕하세요\n",
    "과제 제출 마감이 5일 남았습니다.\n",
    "{year}년 {month}월 {day + 5}일까지 반드시 제출바랍니다.\n",
    "감사합니다.\n",
    "''')    # 받아온 오늘 날짜에 5일 더하여 내용에 포함\n",
    "msg['Subject'] = '제출 마감이 5일 남았습니다.'\n",
    "\n",
    "s.sendmail(my_email, my_email, msg.as_string())\n",
    "s.quit()     "
   ]
  },
  {
   "cell_type": "markdown",
   "id": "z9LhWzEOygjQ",
   "metadata": {
    "id": "z9LhWzEOygjQ"
   },
   "source": [
    "⑥ [심화] 15과 실습의 마지막 문제 결과 fruit6.xlsx 파일을 읽어서 다음의 내용으로 이메일을 보내시오.\n",
    "\n",
    "* fruit6.xlsx의 세번째 열은 요일을 의미합니다. \n",
    "* 오늘의 요일에 해당되는 과일 이름을 읽어서 아래 메일 내용을 구성하시오.\n",
    "\n",
    "> 제목 : 오늘의 과일은 OOO 입니다.  \n",
    "내용 :  \n",
    "안녕하세요.  \n",
    "오늘의 과일은 OOO입니다.   \n",
    "오전에 꼭 챙겨 드시기 바랍니다.  \n",
    "감사합니다.  \n",
    "\n",
    "* 힌트: \n",
    "    * if 조건문을 사용하여 오늘의 요일과 fruit6.xlsx의 세번째 열의 값을 비교해 봅시다.\n",
    "    * 값이 일치할 경우 해당하는 행의 첫번째 열의 값이 오늘의 요일에 해당하는 과일이 됩니다.\n",
    "    * 오늘의 요일은 datetime.today().weekday() 입니다."
   ]
  },
  {
   "cell_type": "code",
   "execution_count": null,
   "id": "85f8f120",
   "metadata": {
    "id": "487fe05b"
   },
   "outputs": [],
   "source": [
    "import openpyxl as xl\n",
    "from datetime import datetime, timedelta\n",
    "import smtplib\n",
    "from email.mime.text import MIMEText\n",
    "\n",
    "wb = xl.load_workbook('fruit6.xlsx')\n",
    "s1 = wb['Sheet1']\n",
    "\n",
    "weekday = datetime.today().weekday()\n",
    "\n",
    "for i in range(0, 7):\n",
    "    if weekday == s1.cell(i + 1, 3).value: # 오늘의 요일과 3열(요일)의 값이 일치할 경우\n",
    "        fruit = s1.cell(i + 1, 1).value          # 1열(과일)의 값을 변수 fruit에 저장\n",
    "\n",
    "s = smtplib.SMTP('smtp.gmail.com', 587)\n",
    "s.starttls()\n",
    "s.login(my_email, my_pwd)\n",
    "\n",
    "msg = MIMEText(f'''안녕하세요.\n",
    "오늘의 과일은 {fruit}입니다.\n",
    "오전에 꼭 챙겨 드시기 바랍니다.\n",
    "감사합니다.\n",
    "''')\n",
    "msg['Subject'] = f'오늘의 과일은 {fruit} 입니다.'\n",
    "\n",
    "s.sendmail(my_email, my_email, msg.as_string())\n",
    "s.quit()     "
   ]
  },
  {
   "cell_type": "code",
   "execution_count": 19,
   "id": "1cf748f4",
   "metadata": {},
   "outputs": [
    {
     "name": "stdout",
     "output_type": "stream",
     "text": [
      "4\n",
      "4\n",
      "Strawberry\n",
      "0\n",
      "1\n",
      "2\n",
      "3\n",
      "4\n",
      "5\n",
      "6\n"
     ]
    }
   ],
   "source": [
    "from datetime import datetime, timedelta\n",
    "weekday = datetime.today().weekday()\n",
    "print(weekday)\n",
    "print(s1.cell(5, 3).value)\n",
    "print(s1.cell(5, 1).value)\n",
    "for i in range(0, 7):\n",
    "    print(i)"
   ]
  }
 ],
 "metadata": {
  "colab": {
   "collapsed_sections": [],
   "name": "16과 [실습] 이메일 보내기.ipynb",
   "provenance": []
  },
  "kernelspec": {
   "display_name": "Python 3",
   "language": "python",
   "name": "python3"
  },
  "language_info": {
   "codemirror_mode": {
    "name": "ipython",
    "version": 3
   },
   "file_extension": ".py",
   "mimetype": "text/x-python",
   "name": "python",
   "nbconvert_exporter": "python",
   "pygments_lexer": "ipython3",
   "version": "3.8.8"
  }
 },
 "nbformat": 4,
 "nbformat_minor": 5
}
